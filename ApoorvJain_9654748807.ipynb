{
 "cells": [
  {
   "cell_type": "markdown",
   "metadata": {},
   "source": [
    "### Introduction\n",
    "\n",
    "\n",
    "**Probelm Statement:** Make a classifier which takes in a job description and gives the department name for it.\n",
    "*   Use a neural network model\n",
    "*   Make use of a pre-trained Word Embeddings (example: Word2Vec, GloVe, etc.)\n",
    "*   Calculate the accuracy on a test set (data not used to train the model)\n",
    "\n",
    "**Problem Solving Approach:** \n",
    "_Provide a brief description of steps you followed for solving this problem_\n",
    "1. Visualise the dataset to understand it\n",
    "2. Create a Neural Network model and check its accuracy.\n",
    "3. Use pre-trained model (GloVe) and check that's accuracy."
   ]
  },
  {
   "cell_type": "markdown",
   "metadata": {},
   "source": [
    "### Part I: Text Preprocessing\n",
    "\n",
    "_Include all text preprocesing steps like processing of json,csv files & data cleaning in this part._"
   ]
  },
  {
   "cell_type": "markdown",
   "metadata": {},
   "source": [
    "Import neccessary packages in below cell"
   ]
  },
  {
   "cell_type": "code",
   "execution_count": 185,
   "metadata": {
    "collapsed": true
   },
   "outputs": [],
   "source": [
    "import pandas as pd\n",
    "import numpy as np\n",
    "import json\n",
    "import os\n",
    "import matplotlib.pyplot as plt\n",
    "import sklearn\n",
    "from sklearn.feature_extraction.text import CountVectorizer\n",
    "from sklearn.model_selection import train_test_split"
   ]
  },
  {
   "cell_type": "code",
   "execution_count": 186,
   "metadata": {
    "collapsed": true
   },
   "outputs": [],
   "source": [
    "path_json = 'Spotmentor/data/docs'\n",
    "path_csv = 'Spotmentor/data'\n",
    "file_csv = os.path.join(path_csv, 'document_departments.csv')"
   ]
  },
  {
   "cell_type": "code",
   "execution_count": 187,
   "metadata": {},
   "outputs": [
    {
     "data": {
      "text/plain": [
       "dict_keys(['company_info', 'api_data', 'other_details', 'topbox_information', 'jd_information', '_id'])"
      ]
     },
     "execution_count": 187,
     "metadata": {},
     "output_type": "execute_result"
    }
   ],
   "source": [
    "obj = json.load(open(os.path.join(path_json, str(data['Document ID'][62]) + '.json')))\n",
    "obj.keys()"
   ]
  },
  {
   "cell_type": "markdown",
   "metadata": {},
   "source": [
    "### Part II: Exploratoty Data Analysis\n",
    "\n",
    "_Include EDA steps like finding distribution of Departments in this part, you may also use plots for EDA._"
   ]
  },
  {
   "cell_type": "code",
   "execution_count": 188,
   "metadata": {
    "collapsed": true
   },
   "outputs": [],
   "source": [
    "data['count'] = data['Department'].map(lambda c_row: 1 if isinstance(c_row, str) else 0)\n",
    "img_id = data.groupby('Department').agg({'count': 'sum'}).reset_index()"
   ]
  },
  {
   "cell_type": "code",
   "execution_count": 189,
   "metadata": {},
   "outputs": [],
   "source": [
    "depart_map = {}\n",
    "for i in range(len(img_id)):\n",
    "    depart_map[img_id['Department'][i]] = i+1"
   ]
  },
  {
   "cell_type": "code",
   "execution_count": 190,
   "metadata": {},
   "outputs": [
    {
     "data": {
      "image/png": "[encoded data removed]",
      "text/plain": [
       "<matplotlib.figure.Figure at 0x12f30e5afd0>"
      ]
     },
     "metadata": {},
     "output_type": "display_data"
    }
   ],
   "source": [
    "y_pos = np.arange(len(img_id))\n",
    "objects = img_id['Department']\n",
    "performance = img_id['count']\n",
    "plt.bar(y_pos, performance, align='center', alpha=0.5)\n",
    "plt.xticks(y_pos, objects)\n",
    "plt.ylabel('Jobs')\n",
    "plt.title('Departments/Jobs')\n",
    "\n",
    "plt.show()"
   ]
  },
  {
   "cell_type": "code",
   "execution_count": 191,
   "metadata": {
    "collapsed": true
   },
   "outputs": [],
   "source": [
    "n = len(data)\n",
    "label = []\n",
    "keyword = []"
   ]
  },
  {
   "cell_type": "code",
   "execution_count": 192,
   "metadata": {},
   "outputs": [],
   "source": [
    "for i in range(n):\n",
    "    obj = json.load(open(os.path.join(path_json, str(data['Document ID'][i]) + '.json')))\n",
    "    department = obj['other_details']['Department:']\n",
    "    title = obj['api_data']['job_title']\n",
    "    obj = obj['api_data']['job_keywords']\n",
    "    st = [st.strip(' ') for st in obj]\n",
    "    dp = [dp.strip(' ') for dp in department]\n",
    "    tt = [tt.strip(' ') for tt in title]\n",
    "    st = st + dp + tt\n",
    "    str_join = \",\".join(st)\n",
    "    label.append(depart_map[data['Department'][i]])\n",
    "    keyword.append(str_join)"
   ]
  },
  {
   "cell_type": "code",
   "execution_count": 193,
   "metadata": {},
   "outputs": [
    {
     "data": {
      "text/html": [
       "<div>\n",
       "<style>\n",
       "    .dataframe thead tr:only-child th {\n",
       "        text-align: right;\n",
       "    }\n",
       "\n",
       "    .dataframe thead th {\n",
       "        text-align: left;\n",
       "    }\n",
       "\n",
       "    .dataframe tbody tr th {\n",
       "        vertical-align: top;\n",
       "    }\n",
       "</style>\n",
       "<table border=\"1\" class=\"dataframe\">\n",
       "  <thead>\n",
       "    <tr style=\"text-align: right;\">\n",
       "      <th></th>\n",
       "      <th>label</th>\n",
       "      <th>keyword</th>\n",
       "    </tr>\n",
       "  </thead>\n",
       "  <tbody>\n",
       "    <tr>\n",
       "      <th>0</th>\n",
       "      <td>6</td>\n",
       "      <td>telesales,telemarketing,communication,call cen...</td>\n",
       "    </tr>\n",
       "    <tr>\n",
       "      <th>1</th>\n",
       "      <td>8</td>\n",
       "      <td>internet media,facebook marketing,online adver...</td>\n",
       "    </tr>\n",
       "    <tr>\n",
       "      <th>2</th>\n",
       "      <td>28</td>\n",
       "      <td>immigration,canada pr,australia pr,client serv...</td>\n",
       "    </tr>\n",
       "    <tr>\n",
       "      <th>3</th>\n",
       "      <td>4</td>\n",
       "      <td>documentation,,Back Office Operations,F,r,e,s,...</td>\n",
       "    </tr>\n",
       "    <tr>\n",
       "      <th>4</th>\n",
       "      <td>8</td>\n",
       "      <td>internet media,facebook marketing,online adver...</td>\n",
       "    </tr>\n",
       "  </tbody>\n",
       "</table>\n",
       "</div>"
      ],
      "text/plain": [
       "   label                                            keyword\n",
       "0      6  telesales,telemarketing,communication,call cen...\n",
       "1      8  internet media,facebook marketing,online adver...\n",
       "2     28  immigration,canada pr,australia pr,client serv...\n",
       "3      4  documentation,,Back Office Operations,F,r,e,s,...\n",
       "4      8  internet media,facebook marketing,online adver..."
      ]
     },
     "execution_count": 193,
     "metadata": {},
     "output_type": "execute_result"
    }
   ],
   "source": [
    "df = pd.DataFrame(label, columns=['label'])\n",
    "df2 = pd.DataFrame(keyword, columns=['keyword'])\n",
    "df = df.merge(df2, left_index=True, right_index=True)\n",
    "df.head()"
   ]
  },
  {
   "cell_type": "code",
   "execution_count": 194,
   "metadata": {
    "collapsed": true
   },
   "outputs": [],
   "source": [
    "x = df['keyword'].values\n",
    "y = df['label'].values"
   ]
  },
  {
   "cell_type": "markdown",
   "metadata": {},
   "source": [
    "### Part III: Modelling & Evaluation\n",
    "\n",
    "_Include all model prepration & evaluation steps in this part._"
   ]
  },
  {
   "cell_type": "code",
   "execution_count": 195,
   "metadata": {},
   "outputs": [],
   "source": [
    "x_train, x_test, y_train, y_test = train_test_split(x, y, test_size=0.25)"
   ]
  },
  {
   "cell_type": "code",
   "execution_count": 196,
   "metadata": {
    "collapsed": true
   },
   "outputs": [],
   "source": [
    "def hotencode(arr):\n",
    "    a = np.zeros([len(arr), np.max(arr)])\n",
    "    for i in range(len(arr)):\n",
    "        col = arr[i]\n",
    "        a[i,col-1] = 1\n",
    "    return a\n",
    "\n",
    "def hotdecode(arr):\n",
    "    a = []\n",
    "    for i in range(len(arr)):\n",
    "        a.append(np.argmax(arr[i,:])+1)\n",
    "    return np.asarray(a)"
   ]
  },
  {
   "cell_type": "code",
   "execution_count": 197,
   "metadata": {
    "collapsed": true
   },
   "outputs": [],
   "source": [
    "from keras.preprocessing.text import Tokenizer\n",
    "from keras.preprocessing.sequence import pad_sequences\n",
    "\n",
    "tokenizer = Tokenizer(num_words=5000)\n",
    "tokenizer.fit_on_texts(x_train)\n",
    "X_train = tokenizer.texts_to_sequences(x_train)\n",
    "X_test = tokenizer.texts_to_sequences(x_test)"
   ]
  },
  {
   "cell_type": "code",
   "execution_count": 198,
   "metadata": {},
   "outputs": [],
   "source": [
    "y_train_hot = hotencode(y_train)\n",
    "y_test_hot = hotencode(y_test)"
   ]
  },
  {
   "cell_type": "code",
   "execution_count": 199,
   "metadata": {},
   "outputs": [],
   "source": [
    "vocab_size = len(tokenizer.word_index) + 1  # Adding 1 because of reserved 0 index\n",
    "maxlen = 100\n",
    "\n",
    "X_train = pad_sequences(X_train, padding='post', maxlen=maxlen)\n",
    "X_test = pad_sequences(X_test, padding='post', maxlen=maxlen)"
   ]
  },
  {
   "cell_type": "code",
   "execution_count": 200,
   "metadata": {},
   "outputs": [
    {
     "name": "stdout",
     "output_type": "stream",
     "text": [
      "_________________________________________________________________\n",
      "Layer (type)                 Output Shape              Param #   \n",
      "=================================================================\n",
      "embedding_12 (Embedding)     (None, 100, 50)           66700     \n",
      "_________________________________________________________________\n",
      "flatten_10 (Flatten)         (None, 5000)              0         \n",
      "_________________________________________________________________\n",
      "dense_29 (Dense)             (None, 35)                175035    \n",
      "_________________________________________________________________\n",
      "dense_30 (Dense)             (None, 30)                1080      \n",
      "=================================================================\n",
      "Total params: 242,815.0\n",
      "Trainable params: 242,815.0\n",
      "Non-trainable params: 0.0\n",
      "_________________________________________________________________\n"
     ]
    }
   ],
   "source": [
    "from keras.models import Sequential\n",
    "from keras import layers\n",
    "\n",
    "embedding_dim = 50\n",
    "\n",
    "model = Sequential()\n",
    "model.add(layers.Embedding(input_dim=vocab_size, output_dim=embedding_dim, input_length=maxlen))\n",
    "model.add(layers.Flatten())\n",
    "model.add(layers.Dense(35, activation='relu'))\n",
    "model.add(layers.Dense(30, activation='sigmoid'))\n",
    "model.compile(optimizer='adam',loss='categorical_crossentropy',metrics=['accuracy'])\n",
    "model.summary()"
   ]
  },
  {
   "cell_type": "code",
   "execution_count": 201,
   "metadata": {},
   "outputs": [
    {
     "name": "stdout",
     "output_type": "stream",
     "text": [
      "Train on 871 samples, validate on 291 samples\n",
      "Epoch 1/30\n",
      "871/871 [==============================] - 0s - loss: 2.7971 - acc: 0.2113 - val_loss: 2.3638 - val_acc: 0.3024\n",
      "Epoch 2/30\n",
      "871/871 [==============================] - 0s - loss: 2.1572 - acc: 0.2974 - val_loss: 1.8953 - val_acc: 0.3024\n",
      "Epoch 3/30\n",
      "871/871 [==============================] - 0s - loss: 1.7487 - acc: 0.2974 - val_loss: 1.6350 - val_acc: 0.3024\n",
      "Epoch 4/30\n",
      "871/871 [==============================] - 0s - loss: 1.3381 - acc: 0.2974 - val_loss: 1.4154 - val_acc: 0.3024\n",
      "Epoch 5/30\n",
      "871/871 [==============================] - 0s - loss: 0.9007 - acc: 0.5488 - val_loss: 0.9451 - val_acc: 0.7766\n",
      "Epoch 6/30\n",
      "871/871 [==============================] - 0s - loss: 0.3887 - acc: 0.9047 - val_loss: 0.8133 - val_acc: 0.8110\n",
      "Epoch 7/30\n",
      "871/871 [==============================] - 0s - loss: 0.2154 - acc: 0.9529 - val_loss: 0.8037 - val_acc: 0.7973\n",
      "Epoch 8/30\n",
      "871/871 [==============================] - 0s - loss: 0.1170 - acc: 0.9828 - val_loss: 0.7915 - val_acc: 0.8041\n",
      "Epoch 9/30\n",
      "871/871 [==============================] - 0s - loss: 0.0747 - acc: 0.9920 - val_loss: 0.8237 - val_acc: 0.8247\n",
      "Epoch 10/30\n",
      "871/871 [==============================] - 0s - loss: 0.0487 - acc: 0.9954 - val_loss: 0.8374 - val_acc: 0.8110\n",
      "Epoch 11/30\n",
      "871/871 [==============================] - 0s - loss: 0.0351 - acc: 0.9966 - val_loss: 0.8136 - val_acc: 0.7938\n",
      "Epoch 12/30\n",
      "871/871 [==============================] - 0s - loss: 0.0281 - acc: 0.9966 - val_loss: 0.8831 - val_acc: 0.8041\n",
      "Epoch 13/30\n",
      "871/871 [==============================] - 0s - loss: 0.0175 - acc: 1.0000 - val_loss: 0.8670 - val_acc: 0.8213\n",
      "Epoch 14/30\n",
      "871/871 [==============================] - 0s - loss: 0.0130 - acc: 1.0000 - val_loss: 0.8597 - val_acc: 0.8110\n",
      "Epoch 15/30\n",
      "871/871 [==============================] - 0s - loss: 0.0120 - acc: 0.9977 - val_loss: 0.8826 - val_acc: 0.8007\n",
      "Epoch 16/30\n",
      "871/871 [==============================] - 0s - loss: 0.0105 - acc: 0.9989 - val_loss: 0.9036 - val_acc: 0.8213\n",
      "Epoch 17/30\n",
      "871/871 [==============================] - 0s - loss: 0.0087 - acc: 0.9989 - val_loss: 0.8886 - val_acc: 0.8213\n",
      "Epoch 18/30\n",
      "871/871 [==============================] - 0s - loss: 0.0060 - acc: 1.0000 - val_loss: 0.8867 - val_acc: 0.8247\n",
      "Epoch 19/30\n",
      "871/871 [==============================] - 0s - loss: 0.0044 - acc: 1.0000 - val_loss: 0.8905 - val_acc: 0.8247\n",
      "Epoch 20/30\n",
      "871/871 [==============================] - 0s - loss: 0.0038 - acc: 1.0000 - val_loss: 0.9006 - val_acc: 0.8213\n",
      "Epoch 21/30\n",
      "871/871 [==============================] - 0s - loss: 0.0032 - acc: 1.0000 - val_loss: 0.9055 - val_acc: 0.8213\n",
      "Epoch 22/30\n",
      "871/871 [==============================] - 0s - loss: 0.0028 - acc: 1.0000 - val_loss: 0.9185 - val_acc: 0.8213\n",
      "Epoch 23/30\n",
      "871/871 [==============================] - 0s - loss: 0.0027 - acc: 1.0000 - val_loss: 0.9268 - val_acc: 0.8179\n",
      "Epoch 24/30\n",
      "871/871 [==============================] - 0s - loss: 0.0022 - acc: 1.0000 - val_loss: 0.9268 - val_acc: 0.8213\n",
      "Epoch 25/30\n",
      "871/871 [==============================] - 0s - loss: 0.0019 - acc: 1.0000 - val_loss: 0.9359 - val_acc: 0.8213\n",
      "Epoch 26/30\n",
      "871/871 [==============================] - 0s - loss: 0.0017 - acc: 1.0000 - val_loss: 0.9384 - val_acc: 0.8213\n",
      "Epoch 27/30\n",
      "871/871 [==============================] - 0s - loss: 0.0016 - acc: 1.0000 - val_loss: 0.9491 - val_acc: 0.8179\n",
      "Epoch 28/30\n",
      "871/871 [==============================] - 0s - loss: 0.0014 - acc: 1.0000 - val_loss: 0.9559 - val_acc: 0.8179\n",
      "Epoch 29/30\n",
      "871/871 [==============================] - 0s - loss: 0.0012 - acc: 1.0000 - val_loss: 0.9598 - val_acc: 0.8213\n",
      "Epoch 30/30\n",
      "871/871 [==============================] - 0s - loss: 0.0011 - acc: 1.0000 - val_loss: 0.9697 - val_acc: 0.8144\n",
      "Training Accuracy: 1.0000\n",
      "Testing Accuracy:  0.8144\n"
     ]
    }
   ],
   "source": [
    "history = model.fit(X_train, y_train_hot, epochs=30, verbose=True, validation_data=(X_test, y_test_hot), batch_size=10)\n",
    "loss, accuracy = model.evaluate(X_train, y_train_hot, verbose=False)\n",
    "print(\"Training Accuracy: {:.4f}\".format(accuracy))\n",
    "loss, accuracy = model.evaluate(X_test, y_test_hot, verbose=False)\n",
    "print(\"Testing Accuracy:  {:.4f}\".format(accuracy))"
   ]
  },
  {
   "cell_type": "code",
   "execution_count": 202,
   "metadata": {},
   "outputs": [],
   "source": [
    "#using GloVe\n",
    "\n",
    "import numpy as np\n",
    "\n",
    "def create_embedding_matrix(filepath, word_index, embedding_dim):\n",
    "    vocab_size = len(word_index) + 1  # Adding again 1 because of reserved 0 index\n",
    "    embedding_matrix = np.zeros((vocab_size, embedding_dim))\n",
    "\n",
    "    with open(filepath, encoding=\"utf8\") as f:\n",
    "        for line in f:\n",
    "            word, *vector = line.split()\n",
    "            if word in word_index:\n",
    "                idx = word_index[word] \n",
    "                embedding_matrix[idx] = np.array(vector, dtype=np.float32)[:embedding_dim]\n",
    "\n",
    "    return embedding_matrix"
   ]
  },
  {
   "cell_type": "code",
   "execution_count": 203,
   "metadata": {},
   "outputs": [],
   "source": [
    "embedding_dim = 50\n",
    "embedding_matrix = create_embedding_matrix('Spotmentor/glove.6B/glove.6B.50d.txt',tokenizer.word_index, embedding_dim)"
   ]
  },
  {
   "cell_type": "code",
   "execution_count": 204,
   "metadata": {},
   "outputs": [
    {
     "name": "stdout",
     "output_type": "stream",
     "text": [
      "_________________________________________________________________\n",
      "Layer (type)                 Output Shape              Param #   \n",
      "=================================================================\n",
      "embedding_13 (Embedding)     (None, 100, 50)           66700     \n",
      "_________________________________________________________________\n",
      "global_max_pooling1d_3 (Glob (None, 50)                0         \n",
      "_________________________________________________________________\n",
      "dense_31 (Dense)             (None, 35)                1785      \n",
      "_________________________________________________________________\n",
      "dense_32 (Dense)             (None, 30)                1080      \n",
      "=================================================================\n",
      "Total params: 69,565.0\n",
      "Trainable params: 69,565.0\n",
      "Non-trainable params: 0.0\n",
      "_________________________________________________________________\n"
     ]
    }
   ],
   "source": [
    "model = Sequential()\n",
    "model.add(layers.Embedding(vocab_size, embedding_dim, weights=[embedding_matrix], input_length=maxlen, trainable=True))\n",
    "model.add(layers.GlobalMaxPool1D())\n",
    "model.add(layers.Dense(35, activation='relu'))\n",
    "model.add(layers.Dense(30, activation='sigmoid'))\n",
    "model.compile(optimizer='adam', loss='categorical_crossentropy', metrics=['accuracy'])\n",
    "model.summary()"
   ]
  },
  {
   "cell_type": "code",
   "execution_count": 205,
   "metadata": {},
   "outputs": [
    {
     "name": "stdout",
     "output_type": "stream",
     "text": [
      "Train on 871 samples, validate on 291 samples\n",
      "Epoch 1/30\n",
      "871/871 [==============================] - 0s - loss: 2.8228 - acc: 0.2204 - val_loss: 2.2820 - val_acc: 0.2715\n",
      "Epoch 2/30\n",
      "871/871 [==============================] - 0s - loss: 2.2725 - acc: 0.2262 - val_loss: 2.1550 - val_acc: 0.2371\n",
      "Epoch 3/30\n",
      "871/871 [==============================] - 0s - loss: 2.1879 - acc: 0.2537 - val_loss: 2.0971 - val_acc: 0.3127\n",
      "Epoch 4/30\n",
      "871/871 [==============================] - 0s - loss: 2.1296 - acc: 0.3008 - val_loss: 2.0854 - val_acc: 0.3024\n",
      "Epoch 5/30\n",
      "871/871 [==============================] - 0s - loss: 2.0644 - acc: 0.2974 - val_loss: 1.9953 - val_acc: 0.3024\n",
      "Epoch 6/30\n",
      "871/871 [==============================] - 0s - loss: 1.9620 - acc: 0.2974 - val_loss: 1.8993 - val_acc: 0.3024\n",
      "Epoch 7/30\n",
      "871/871 [==============================] - 0s - loss: 1.8458 - acc: 0.3215 - val_loss: 1.7413 - val_acc: 0.5052\n",
      "Epoch 8/30\n",
      "871/871 [==============================] - 0s - loss: 1.5559 - acc: 0.5936 - val_loss: 1.3453 - val_acc: 0.6907\n",
      "Epoch 9/30\n",
      "871/871 [==============================] - 0s - loss: 1.2460 - acc: 0.6762 - val_loss: 1.1446 - val_acc: 0.7251\n",
      "Epoch 10/30\n",
      "871/871 [==============================] - 0s - loss: 1.0652 - acc: 0.7268 - val_loss: 0.9869 - val_acc: 0.7629\n",
      "Epoch 11/30\n",
      "871/871 [==============================] - 0s - loss: 0.9396 - acc: 0.7727 - val_loss: 0.9363 - val_acc: 0.7835\n",
      "Epoch 12/30\n",
      "871/871 [==============================] - 0s - loss: 0.8402 - acc: 0.8037 - val_loss: 0.8673 - val_acc: 0.7904\n",
      "Epoch 13/30\n",
      "871/871 [==============================] - 0s - loss: 0.7777 - acc: 0.8197 - val_loss: 0.8333 - val_acc: 0.7973\n",
      "Epoch 14/30\n",
      "871/871 [==============================] - 0s - loss: 0.7246 - acc: 0.8358 - val_loss: 0.7669 - val_acc: 0.8110\n",
      "Epoch 15/30\n",
      "871/871 [==============================] - 0s - loss: 0.6656 - acc: 0.8588 - val_loss: 0.7418 - val_acc: 0.8282\n",
      "Epoch 16/30\n",
      "871/871 [==============================] - 0s - loss: 0.6324 - acc: 0.8462 - val_loss: 0.7325 - val_acc: 0.8213\n",
      "Epoch 17/30\n",
      "871/871 [==============================] - 0s - loss: 0.5939 - acc: 0.8588 - val_loss: 0.6954 - val_acc: 0.8419\n",
      "Epoch 18/30\n",
      "871/871 [==============================] - 0s - loss: 0.5476 - acc: 0.8657 - val_loss: 0.6878 - val_acc: 0.8351\n",
      "Epoch 19/30\n",
      "871/871 [==============================] - 0s - loss: 0.5215 - acc: 0.8726 - val_loss: 0.6445 - val_acc: 0.8316\n",
      "Epoch 20/30\n",
      "871/871 [==============================] - 0s - loss: 0.4963 - acc: 0.8783 - val_loss: 0.6459 - val_acc: 0.8351\n",
      "Epoch 21/30\n",
      "871/871 [==============================] - 0s - loss: 0.4746 - acc: 0.8760 - val_loss: 0.6294 - val_acc: 0.8351\n",
      "Epoch 22/30\n",
      "871/871 [==============================] - 0s - loss: 0.4383 - acc: 0.8898 - val_loss: 0.6120 - val_acc: 0.8488\n",
      "Epoch 23/30\n",
      "871/871 [==============================] - 0s - loss: 0.4140 - acc: 0.8875 - val_loss: 0.5961 - val_acc: 0.8488\n",
      "Epoch 24/30\n",
      "871/871 [==============================] - 0s - loss: 0.3904 - acc: 0.8990 - val_loss: 0.5719 - val_acc: 0.8729\n",
      "Epoch 25/30\n",
      "871/871 [==============================] - 0s - loss: 0.3695 - acc: 0.9059 - val_loss: 0.5670 - val_acc: 0.8522\n",
      "Epoch 26/30\n",
      "871/871 [==============================] - 0s - loss: 0.3501 - acc: 0.9013 - val_loss: 0.5616 - val_acc: 0.8625\n",
      "Epoch 27/30\n",
      "871/871 [==============================] - 0s - loss: 0.3213 - acc: 0.9185 - val_loss: 0.5742 - val_acc: 0.8591\n",
      "Epoch 28/30\n",
      "871/871 [==============================] - 0s - loss: 0.3163 - acc: 0.9162 - val_loss: 0.5279 - val_acc: 0.8729\n",
      "Epoch 29/30\n",
      "871/871 [==============================] - 0s - loss: 0.2842 - acc: 0.9265 - val_loss: 0.5210 - val_acc: 0.8832\n",
      "Epoch 30/30\n",
      "871/871 [==============================] - 0s - loss: 0.2681 - acc: 0.9392 - val_loss: 0.5249 - val_acc: 0.8660\n",
      "Training Accuracy: 0.9311\n",
      "Testing Accuracy:  0.8660\n"
     ]
    }
   ],
   "source": [
    "history = model.fit(X_train, y_train_hot, epochs=30, verbose=True, validation_data=(X_test, y_test_hot), batch_size=10)\n",
    "\n",
    "loss, accuracy = model.evaluate(X_train, y_train_hot, verbose=False)\n",
    "print(\"Training Accuracy: {:.4f}\".format(accuracy))\n",
    "loss, accuracy = model.evaluate(X_test, y_test_hot, verbose=False)\n",
    "print(\"Testing Accuracy:  {:.4f}\".format(accuracy))"
   ]
  },
  {
   "cell_type": "markdown",
   "metadata": {},
   "source": [
    "**Results Summary:**\n",
    "_Provide a brief summary of results obtained like model accuracy & other insights based on EDA & your interpretations_\n",
    "\n",
    "1. Maybe because of imbalance in data the accuracy is not that great.\n",
    "2. Using some transfer learning techniques like GloVe increases some accuracy."
   ]
  },
  {
   "cell_type": "code",
   "execution_count": null,
   "metadata": {
    "collapsed": true
   },
   "outputs": [],
   "source": []
  }
 ],
 "metadata": {
  "kernelspec": {
   "display_name": "Python 3",
   "language": "python",
   "name": "python3"
  },
  "language_info": {
   "codemirror_mode": {
    "name": "ipython",
    "version": 3
   },
   "file_extension": ".py",
   "mimetype": "text/x-python",
   "name": "python",
   "nbconvert_exporter": "python",
   "pygments_lexer": "ipython3",
   "version": "3.6.3"
  }
 },
 "nbformat": 4,
 "nbformat_minor": 2
}
